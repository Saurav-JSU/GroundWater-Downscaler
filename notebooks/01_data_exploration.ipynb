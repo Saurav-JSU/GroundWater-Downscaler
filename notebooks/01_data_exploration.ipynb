{
 "cells": [
  {
   "cell_type": "markdown",
   "metadata": {},
   "source": [
    "# GRACE Data Exploration for Groundwater Downscaling\n",
    "\n",
    "This notebook explores the GRACE and auxiliary datasets used for groundwater downscaling in the Mississippi region."
   ]
  },
  {
   "cell_type": "code",
   "execution_count": null,
   "metadata": {},
   "outputs": [],
   "source": [
    "# Standard imports\n",
    "import os\n",
    "import sys\n",
    "import numpy as np\n",
    "import pandas as pd\n",
    "import matplotlib.pyplot as plt\n",
    "import seaborn as sns\n",
    "from pathlib import Path\n",
    "from datetime import datetime\n",
    "\n",
    "# Add the src directory to the path\n",
    "notebook_dir = Path(os.getcwd())\n",
    "src_dir = notebook_dir.parent\n",
    "sys.path.append(str(src_dir))\n",
    "\n",
    "# Set plotting style\n",
    "plt.style.use('seaborn-v0_8-whitegrid')\n",
    "sns.set_context(\"notebook\", font_scale=1.2)\n",
    "\n",
    "# Define directories\n",
    "data_dir = src_dir / 'data'\n",
    "raw_dir = data_dir / 'raw'\n",
    "processed_dir = data_dir / 'processed'\n",
    "figures_dir = src_dir / 'figures'\n",
    "\n",
    "# Create directories if they don't exist\n",
    "figures_dir.mkdir(parents=True, exist_ok=True)"
   ]
  },
  {
   "cell_type": "markdown",
   "metadata": {},
   "source": [
    "## Initialize Google Earth Engine\n",
    "\n",
    "First, we need to initialize Google Earth Engine to access GRACE and other datasets."
   ]
  },
  {
   "cell_type": "code",
   "execution_count": null,
   "metadata": {},
   "outputs": [],
   "source": [
    "# Import Earth Engine modules\n",
    "from src.data.earth_engine import initialize_earth_engine, get_region_geometry, display_region\n",
    "\n",
    "# Initialize Earth Engine\n",
    "initialize_earth_engine()"
   ]
  },
  {
   "cell_type": "markdown",
   "metadata": {},
   "source": [
    "## Get Region Geometry\n",
    "\n",
    "We'll focus on Mississippi as our study area."
   ]
  },
  {
   "cell_type": "code",
   "execution_count": null,
   "metadata": {},
   "outputs": [],
   "source": [
    "# Get Mississippi geometry\n",
    "region_name = \"Mississippi\"\n",
    "mississippi = get_region_geometry(region_name)\n",
    "\n",
    "# Display region\n",
    "m = display_region(mississippi, region_name)\n",
    "m"
   ]
  },
  {
   "cell_type": "markdown",
   "metadata": {},
   "source": [
    "## Explore GRACE Data\n",
    "\n",
    "Let's explore the GRACE terrestrial water storage anomalies for our region."
   ]
  },
  {
   "cell_type": "code",
   "execution_count": null,
   "metadata": {},
   "outputs": [],
   "source": [
    "from src.data.grace import get_grace_collection, filter_grace_collection, extract_grace_time_series\n",
    "\n",
    "# Define date range\n",
    "start_date = '2002-04-01'\n",
    "end_date = '2023-01-01'\n",
    "\n",
    "# Get GRACE data\n",
    "grace = get_grace_collection('JPL')\n",
    "grace_filtered = filter_grace_collection(grace, start_date, end_date)\n",
    "\n",
    "# Extract time series\n",
    "grace_ts = extract_grace_time_series(grace_filtered, mississippi)\n",
    "\n",
    "# Plot time series\n",
    "plt.figure(figsize=(12, 6))\n",
    "plt.plot(grace_ts['date'], grace_ts['value'], 'o-', color='#1f77b4')\n",
    "plt.title('GRACE Terrestrial Water Storage Anomalies - Mississippi')\n",
    "plt.xlabel('Date')\n",
    "plt.ylabel('LWE Thickness (cm)')\n",
    "plt.grid(True, alpha=0.3)\n",
    "plt.tight_layout()\n",
    "plt.savefig(str(figures_dir / 'grace_time_series.png'), dpi=300, bbox_inches='tight')\n",
    "plt.show()"
   ]
  },
  {
   "cell_type": "markdown",
   "metadata": {},
   "source": [
    "## Explore Auxiliary Data\n",
    "\n",
    "Now let's look at the auxiliary datasets: soil moisture, precipitation, and evapotranspiration."
   ]
  },
  {
   "cell_type": "code",
   "execution_count": null,
   "metadata": {},
   "outputs": [],
   "source": [
    "from src.data.auxiliary import (\n",
    "    get_soil_moisture_collection, get_precipitation_collection, get_evapotranspiration_collection,\n",
    "    filter_collection, extract_time_series\n",
    ")\n",
    "\n",
    "# Get soil moisture data\n",
    "sm_collection = get_soil_moisture_collection('smap')\n",
    "sm_filtered = filter_collection(sm_collection, '2015-04-01', end_date, 'ssm')\n",
    "sm_ts = extract_time_series(sm_filtered, mississippi, band_name='ssm')\n",
    "\n",
    "# Get precipitation data\n",
    "precip_collection = get_precipitation_collection('chirps')\n",
    "precip_filtered = filter_collection(precip_collection, start_date, end_date, 'precipitation')\n",
    "precip_ts = extract_time_series(precip_filtered, mississippi, band_name='precipitation')\n",
    "\n",
    "# Get evapotranspiration data\n",
    "et_collection = get_evapotranspiration_collection('modis')\n",
    "et_filtered = filter_collection(et_collection, start_date, end_date, 'ET')\n",
    "et_ts = extract_time_series(et_filtered, mississippi, band_name='ET')"
   ]
  },
  {
   "cell_type": "code",
   "execution_count": null,
   "metadata": {},
   "outputs": [],
   "source": [
    "# Plot soil moisture time series\n",
    "plt.figure(figsize=(12, 6))\n",
    "plt.plot(sm_ts['date'], sm_ts['value'], 'o-', color='#2ca02c')\n",
    "plt.title('SMAP Surface Soil Moisture - Mississippi')\n",
    "plt.xlabel('Date')\n",
    "plt.ylabel('Soil Moisture (cm³/cm³)')\n",
    "plt.grid(True, alpha=0.3)\n",
    "plt.tight_layout()\n",
    "plt.savefig(str(figures_dir / 'soil_moisture_time_series.png'), dpi=300, bbox_inches='tight')\n",
    "plt.show()"
   ]
  },
  {
   "cell_type": "code",
   "execution_count": null,
   "metadata": {},
   "outputs": [],
   "source": [
    "# Plot precipitation time series\n",
    "# Aggregate by month for better visualization\n",
    "precip_monthly = precip_ts.set_index('date').resample('M').mean().reset_index()\n",
    "\n",
    "plt.figure(figsize=(12, 6))\n",
    "plt.plot(precip_monthly['date'], precip_monthly['value'], 'o-', color='#1f77b4')\n",
    "plt.title('CHIRPS Precipitation - Mississippi')\n",
    "plt.xlabel('Date')\n",
    "plt.ylabel('Precipitation (mm)')\n",
    "plt.grid(True, alpha=0.3)\n",
    "plt.tight_layout()\n",
    "plt.savefig(str(figures_dir / 'precipitation_time_series.png'), dpi=300, bbox_inches='tight')\n",
    "plt.show()"
   ]
  },
  {
   "cell_type": "code",
   "execution_count": null,
   "metadata": {},
   "outputs": [],
   "source": [
    "# Plot evapotranspiration time series\n",
    "# Aggregate by month for better visualization\n",
    "et_monthly = et_ts.set_index('date').resample('M').mean().reset_index()\n",
    "\n",
    "plt.figure(figsize=(12, 6))\n",
    "plt.plot(et_monthly['date'], et_monthly['value'], 'o-', color='#d62728')\n",
    "plt.title('MODIS Evapotranspiration - Mississippi')\n",
    "plt.xlabel('Date')\n",
    "plt.ylabel('Evapotranspiration (kg/m²)')\n",
    "plt.grid(True, alpha=0.3)\n",
    "plt.tight_layout()\n",
    "plt.savefig(str(figures_dir / 'evapotranspiration_time_series.png'), dpi=300, bbox_inches='tight')\n",
    "plt.show()"
   ]
  },
  {
   "cell_type": "markdown",
   "metadata": {},
   "source": [
    "## Explore USGS Groundwater Data\n",
    "\n",
    "Let's look at the USGS groundwater well data for Mississippi."
   ]
  },
  {
   "cell_type": "code",
   "execution_count": null,
   "metadata": {},
   "outputs": [],
   "source": [
    "from src.data.usgs import get_usgs_groundwater_data, convert_to_geodataframe\n",
    "\n",
    "# Get groundwater data\n",
    "gw_data = get_usgs_groundwater_data('MS', start_date, end_date)\n",
    "\n",
    "# Convert to GeoDataFrame\n",
    "gw_gdf = convert_to_geodataframe(gw_data)"
   ]
  },
  {
   "cell_type": "code",
   "execution_count": null,
   "metadata": {},
   "outputs": [],
   "source": [
    "# Display well locations\n",
    "import folium\n",
    "from folium.plugins import MarkerCluster\n",
    "\n",
    "# Create a map centered on Mississippi\n",
    "map_center = [gw_gdf['latitude'].mean(), gw_gdf['longitude'].mean()]\n",
    "m = folium.Map(location=map_center, zoom_start=7)\n",
    "\n",
    "# Add a marker cluster\n",
    "marker_cluster = MarkerCluster().add_to(m)\n",
    "\n",
    "# Add markers for each well\n",
    "for idx, row in gw_gdf.drop_duplicates(['site_code', 'latitude', 'longitude']).iterrows():\n",
    "    folium.Marker(\n",
    "        location=[row['latitude'], row['longitude']],\n",
    "        popup=f\"<b>Site:</b> {row['site_name']}<br><b>Code:</b> {row['site_code']}\",\n",
    "        icon=folium.Icon(color='blue', icon='water', prefix='fa')\n",
    "    ).add_to(marker_cluster)\n",
    "\n",
    "# Display map\n",
    "m"
   ]
  },
  {
   "cell_type": "code",
   "execution_count": null,
   "metadata": {},
   "outputs": [],
   "source": [
    "# Plot time series for a few selected wells\n",
    "# Get the wells with most measurements\n",
    "well_counts = gw_data.groupby('site_code').size().sort_values(ascending=False)\n",
    "top_wells = well_counts.head(5).index.tolist()\n",
    "\n",
    "plt.figure(figsize=(12, 8))\n",
    "\n",
    "for well in top_wells:\n",
    "    well_data = gw_data[gw_data['site_code'] == well]\n",
    "    well_name = well_data['site_name'].iloc[0]\n",
    "    plt.plot(well_data['date'], well_data['value'], 'o-', label=f\"{well} - {well_name}\")\n",
    "\n",
    "plt.title('Groundwater Levels for Selected Wells in Mississippi')\n",
    "plt.xlabel('Date')\n",
    "plt.ylabel('Depth to Water Level (feet below land surface)')\n",
    "plt.gca().invert_yaxis()  # Invert y-axis so higher values (deeper) are lower on plot\n",
    "plt.legend()\n",
    "plt.grid(True, alpha=0.3)\n",
    "plt.tight_layout()\n",
    "plt.savefig(str(figures_dir / 'groundwater_well_time_series.png'), dpi=300, bbox_inches='tight')\n",
    "plt.show()"
   ]
  },
  {
   "cell_type": "markdown",
   "metadata": {},
   "source": [
    "## Compare GRACE with Groundwater Levels\n",
    "\n",
    "Now let's compare GRACE data with groundwater levels to explore their relationship."
   ]
  },
  {
   "cell_type": "code",
   "execution_count": null,
   "metadata": {},
   "outputs": [],
   "source": [
    "# Aggregate groundwater data to monthly values for comparison with GRACE\n",
    "from src.data.usgs import get_monthly_aggregation\n",
    "\n",
    "gw_monthly = get_monthly_aggregation(gw_data)\n",
    "\n",
    "# Get data for a well with good temporal coverage\n",
    "well_data = gw_monthly[gw_monthly['site_code'] == top_wells[0]]\n",
    "\n",
    "# Prepare GRACE data for comparison\n",
    "grace_monthly = grace_ts.copy()\n",
    "grace_monthly['date'] = pd.to_datetime(grace_monthly['date'])\n",
    "\n",
    "# Merge datasets\n",
    "comparison_df = pd.merge(\n",
    "    grace_monthly[['date', 'value']].rename(columns={'value': 'grace'}),\n",
    "    well_data[['date', 'value']].rename(columns={'value': 'groundwater'}),\n",
    "    on='date',\n",
    "    how='inner'\n",
    ")\n",
    "\n",
    "# Plot comparison\n",
    "fig, ax1 = plt.subplots(figsize=(12, 6))\n",
    "\n",
    "ax1.set_xlabel('Date')\n",
    "ax1.set_ylabel('GRACE LWE Thickness (cm)', color='#1f77b4')\n",
    "ax1.plot(comparison_df['date'], comparison_df['grace'], 'o-', color='#1f77b4')\n",
    "ax1.tick_params(axis='y', labelcolor='#1f77b4')\n",
    "\n",
    "ax2 = ax1.twinx()\n",
    "ax2.set_ylabel('Depth to Groundwater (feet)', color='#d62728')\n",
    "ax2.plot(comparison_df['date'], comparison_df['groundwater'], 'o-', color='#d62728')\n",
    "ax2.tick_params(axis='y', labelcolor='#d62728')\n",
    "ax2.invert_yaxis()  # Invert y-axis for groundwater depth\n",
    "\n",
    "plt.title(f'GRACE vs Groundwater Level for Well {top_wells[0]}')\n",
    "plt.grid(True, alpha=0.3)\n",
    "plt.tight_layout()\n",
    "plt.savefig(str(figures_dir / 'grace_vs_groundwater.png'), dpi=300, bbox_inches='tight')\n",
    "plt.show()\n",
    "\n",
    "# Calculate correlation\n",
    "correlation = comparison_df['grace'].corr(comparison_df['groundwater'])\n",
    "print(f\"Correlation between GRACE and groundwater level: {correlation:.4f}\")"
   ]
  },
  {
   "cell_type": "markdown",
   "metadata": {},
   "source": [
    "## Conclusion\n",
    "\n",
    "This notebook has explored the key datasets for GRACE groundwater downscaling in Mississippi:\n",
    "\n",
    "1. GRACE terrestrial water storage anomalies\n",
    "2. Auxiliary datasets (soil moisture, precipitation, evapotranspiration)\n",
    "3. USGS groundwater well measurements\n",
    "\n",
    "These datasets will be used to train a CNN model for downscaling GRACE data to high-resolution groundwater estimates."
   ]
  }
 ],
 "metadata": {
  "kernelspec": {
   "display_name": "grace-env",
   "language": "python",
   "name": "python3"
  },
  "language_info": {
   "codemirror_mode": {
    "name": "ipython",
    "version": 3
   },
   "file_extension": ".py",
   "mimetype": "text/x-python",
   "name": "python",
   "nbconvert_exporter": "python",
   "pygments_lexer": "ipython3",
   "version": "3.9.21"
  }
 },
 "nbformat": 4,
 "nbformat_minor": 4
}
